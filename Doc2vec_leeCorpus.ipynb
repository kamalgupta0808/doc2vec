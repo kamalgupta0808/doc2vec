{
 "cells": [
  {
   "cell_type": "code",
   "execution_count": 1,
   "metadata": {},
   "outputs": [],
   "source": [
    "import gensim\n",
    "import os\n",
    "import collections\n",
    "import smart_open\n",
    "import random"
   ]
  },
  {
   "cell_type": "code",
   "execution_count": 2,
   "metadata": {},
   "outputs": [
    {
     "name": "stdout",
     "output_type": "stream",
     "text": [
      "/home/kamal/anaconda3/lib/python3.6/site-packages/gensim/test/test_data/lee.cor\n",
      "/home/kamal/anaconda3/lib/python3.6/site-packages/gensim/test/test_data/lee_background.cor\n"
     ]
    }
   ],
   "source": [
    "# Set file names for train and test data\n",
    "test_data_dir = '{}'.format(os.sep).join([gensim.__path__[0], 'test', 'test_data'])\n",
    "lee_train_file = test_data_dir + os.sep + 'lee_background.cor'\n",
    "lee_test_file = test_data_dir + os.sep + 'lee.cor'\n",
    "print (lee_test_file)\n",
    "print (lee_train_file)"
   ]
  },
  {
   "cell_type": "code",
   "execution_count": 3,
   "metadata": {},
   "outputs": [],
   "source": [
    "def read_corpus(fname, tokens_only=False):\n",
    "    with smart_open.smart_open(fname, encoding=\"iso-8859-1\") as f:\n",
    "        for i, line in enumerate(f):\n",
    "            if tokens_only:\n",
    "                yield gensim.utils.simple_preprocess(line)\n",
    "            else:\n",
    "                # For training data, add tags\n",
    "                yield gensim.models.doc2vec.TaggedDocument(gensim.utils.simple_preprocess(line), [i])"
   ]
  },
  {
   "cell_type": "code",
   "execution_count": 4,
   "metadata": {},
   "outputs": [],
   "source": [
    "train_corpus = list(read_corpus(lee_train_file))\n",
    "test_corpus = list(read_corpus(lee_test_file, tokens_only=True))"
   ]
  },
  {
   "cell_type": "code",
   "execution_count": 5,
   "metadata": {},
   "outputs": [
    {
     "name": "stderr",
     "output_type": "stream",
     "text": [
      "/home/kamal/anaconda3/lib/python3.6/site-packages/gensim/models/doc2vec.py:362: UserWarning: The parameter `iter` is deprecated, will be removed in 4.0.0, use `epochs` instead.\n",
      "  warnings.warn(\"The parameter `iter` is deprecated, will be removed in 4.0.0, use `epochs` instead.\")\n",
      "/home/kamal/anaconda3/lib/python3.6/site-packages/gensim/models/doc2vec.py:366: UserWarning: The parameter `size` is deprecated, will be removed in 4.0.0, use `vector_size` instead.\n",
      "  warnings.warn(\"The parameter `size` is deprecated, will be removed in 4.0.0, use `vector_size` instead.\")\n"
     ]
    }
   ],
   "source": [
    "model = gensim.models.doc2vec.Doc2Vec(size=50, min_count=2, iter=10)"
   ]
  },
  {
   "cell_type": "code",
   "execution_count": 6,
   "metadata": {},
   "outputs": [],
   "source": [
    "model.build_vocab(train_corpus)"
   ]
  },
  {
   "cell_type": "code",
   "execution_count": 18,
   "metadata": {},
   "outputs": [
    {
     "data": {
      "text/plain": [
       "<gensim.models.doc2vec.Doc2VecVocab at 0x7f71b1c7fe10>"
      ]
     },
     "execution_count": 18,
     "metadata": {},
     "output_type": "execute_result"
    }
   ],
   "source": [
    "model.vocabulary"
   ]
  },
  {
   "cell_type": "code",
   "execution_count": 7,
   "metadata": {},
   "outputs": [
    {
     "name": "stderr",
     "output_type": "stream",
     "text": [
      "/home/kamal/anaconda3/lib/python3.6/site-packages/ipykernel_launcher.py:1: DeprecationWarning: Call to deprecated `iter` (Attribute will be removed in 4.0.0, use self.epochs instead).\n",
      "  \"\"\"Entry point for launching an IPython kernel.\n"
     ]
    },
    {
     "name": "stdout",
     "output_type": "stream",
     "text": [
      "CPU times: user 1.19 s, sys: 16.9 ms, total: 1.21 s\n",
      "Wall time: 607 ms\n"
     ]
    }
   ],
   "source": [
    "%time model.train(train_corpus,total_examples=model.corpus_count,epochs=model.iter)\n"
   ]
  },
  {
   "cell_type": "code",
   "execution_count": 8,
   "metadata": {},
   "outputs": [
    {
     "data": {
      "text/plain": [
       "array([-5.1218051e-02,  8.9167543e-02,  5.8330530e-03,  2.1841051e-02,\n",
       "       -4.9148254e-02,  1.8440602e-02, -1.3963051e-02,  2.4803180e-02,\n",
       "       -7.3163304e-05, -1.5204197e-02,  5.8169561e-03,  1.3922131e-02,\n",
       "        6.1183609e-02,  3.0000899e-02,  4.2693544e-02,  2.1754859e-02,\n",
       "       -6.7927372e-03,  1.3767157e-02,  3.1363377e-03, -5.1696682e-03,\n",
       "        2.2207364e-03, -1.9045766e-02, -4.9056370e-02,  1.8180920e-02,\n",
       "       -2.0515705e-02, -6.7289369e-03, -5.3252440e-02, -1.2659206e-02,\n",
       "        5.1609064e-03, -3.9285216e-02, -1.5433058e-02,  2.2050139e-02,\n",
       "        3.2933410e-02,  5.2565511e-02, -3.9323494e-02, -9.6941357e-03,\n",
       "       -1.2293762e-02,  2.2062212e-02,  6.5584704e-02, -4.3579042e-02,\n",
       "       -2.4192562e-02,  2.8064810e-02,  7.1432577e-03, -3.7213307e-02,\n",
       "        6.0336523e-02,  1.9008473e-02, -9.4067473e-03,  3.1890817e-02,\n",
       "        1.2628396e-02,  2.3744132e-02], dtype=float32)"
      ]
     },
     "execution_count": 8,
     "metadata": {},
     "output_type": "execute_result"
    }
   ],
   "source": [
    "model.infer_vector(['only', 'you', 'can', 'prevent', 'forrest', 'fires'])"
   ]
  },
  {
   "cell_type": "code",
   "execution_count": 9,
   "metadata": {},
   "outputs": [],
   "source": [
    "ranks = []\n",
    "second_ranks = []\n",
    "for doc_id in range(len(train_corpus)):\n",
    "    inferred_vector = model.infer_vector(train_corpus[doc_id].words)\n",
    "    sims = model.docvecs.most_similar([inferred_vector], topn=len(model.docvecs))\n",
    "    rank = [docid for docid, sim in sims].index(doc_id)\n",
    "    ranks.append(rank)\n",
    "    \n",
    "    second_ranks.append(sims[1])"
   ]
  },
  {
   "cell_type": "code",
   "execution_count": 10,
   "metadata": {},
   "outputs": [
    {
     "data": {
      "text/plain": [
       "Counter({0: 31,\n",
       "         1: 33,\n",
       "         2: 14,\n",
       "         3: 11,\n",
       "         4: 8,\n",
       "         5: 11,\n",
       "         6: 13,\n",
       "         7: 6,\n",
       "         8: 6,\n",
       "         9: 7,\n",
       "         10: 11,\n",
       "         11: 5,\n",
       "         12: 12,\n",
       "         13: 5,\n",
       "         14: 10,\n",
       "         15: 4,\n",
       "         16: 4,\n",
       "         17: 8,\n",
       "         18: 3,\n",
       "         19: 4,\n",
       "         20: 5,\n",
       "         21: 5,\n",
       "         22: 3,\n",
       "         23: 3,\n",
       "         24: 4,\n",
       "         25: 1,\n",
       "         26: 4,\n",
       "         28: 3,\n",
       "         29: 1,\n",
       "         30: 2,\n",
       "         31: 2,\n",
       "         32: 2,\n",
       "         33: 2,\n",
       "         38: 1,\n",
       "         39: 4,\n",
       "         40: 1,\n",
       "         41: 3,\n",
       "         42: 1,\n",
       "         43: 2,\n",
       "         45: 2,\n",
       "         47: 3,\n",
       "         50: 1,\n",
       "         51: 1,\n",
       "         54: 1,\n",
       "         55: 1,\n",
       "         57: 3,\n",
       "         58: 3,\n",
       "         59: 1,\n",
       "         60: 1,\n",
       "         63: 1,\n",
       "         65: 1,\n",
       "         66: 1,\n",
       "         68: 2,\n",
       "         69: 1,\n",
       "         74: 1,\n",
       "         76: 1,\n",
       "         84: 1,\n",
       "         86: 1,\n",
       "         88: 1,\n",
       "         89: 1,\n",
       "         98: 1,\n",
       "         101: 1,\n",
       "         107: 1,\n",
       "         108: 1,\n",
       "         113: 1,\n",
       "         119: 1,\n",
       "         124: 1,\n",
       "         128: 1,\n",
       "         130: 1,\n",
       "         131: 1,\n",
       "         132: 1,\n",
       "         142: 1,\n",
       "         187: 1,\n",
       "         190: 2,\n",
       "         202: 1})"
      ]
     },
     "execution_count": 10,
     "metadata": {},
     "output_type": "execute_result"
    }
   ],
   "source": [
    "collections.Counter(ranks)  #96% accuracy"
   ]
  },
  {
   "cell_type": "code",
   "execution_count": 11,
   "metadata": {},
   "outputs": [
    {
     "name": "stdout",
     "output_type": "stream",
     "text": [
      "Document (299): «australia will take on france in the doubles rubber of the davis cup tennis final today with the tie levelled at wayne arthurs and todd woodbridge are scheduled to lead australia in the doubles against cedric pioline and fabrice santoro however changes can be made to the line up up to an hour before the match and australian team captain john fitzgerald suggested he might do just that we ll make team appraisal of the whole situation go over the pros and cons and make decision french team captain guy forget says he will not make changes but does not know what to expect from australia todd is the best doubles player in the world right now so expect him to play he said would probably use wayne arthurs but don know what to expect really pat rafter salvaged australia davis cup campaign yesterday with win in the second singles match rafter overcame an arm injury to defeat french number one sebastien grosjean in three sets the australian says he is happy with his form it not very pretty tennis there isn too many consistent bounces you are playing like said bit of classic old grass court rafter said rafter levelled the score after lleyton hewitt shock five set loss to nicholas escude in the first singles rubber but rafter says he felt no added pressure after hewitt defeat knew had good team to back me up even if we were down he said knew could win on the last day know the boys can win doubles so even if we were down still feel we are good enough team to win and vice versa they are good enough team to beat us as well»\n",
      "\n",
      "SIMILAR/DISSIMILAR DOCS PER MODEL Doc2Vec(dm/m,d50,n5,w5,mc2,s0.001,t3):\n",
      "\n",
      "MOST (83, 0.9912498593330383): «the opposition leader simon crean says child abuse scandal in brisbane has damaged the office of the governor general and its incumbent dr peter hollingworth child advocates have called on dr hollingworth to step down as governor general saying he did not do enough to prevent abuse of children in an anglican school when he was archbishop of brisbane mr crean says he is not calling on dr hollingworth to resign but he says there are still unanswered questions think it has tarnished the office of the governor general the fact that it took so long for this statement to come out he said many people have been calling for it me included think if we are to avoid further damage to the office we need to clear it up completely brisbane lord mayor says the governor general explanation of his handling of child sex abuse allegations at queensland school raises more questions than it answers jim soorley who is former catholic priest says the explanation does not wash within the christian tradition bishops are regarded as shepherds he said it very clear that he was not good shepherd and there are serious consequences for that think his actions are not the actions of good shepherd and think there are still questions to be answered»\n",
      "\n",
      "MEDIAN (67, 0.9852800369262695): «pay freeze dispute involving qantas and its maintenance workers will remain unresolved over the christmas period the parties failed to reach agreement during talks in the industrial relations commission in melbourne this morning more than employees have imposed work bans and stoppages in their campaign for per cent pay rise both the union and qantas say there will not be flight disruptions»\n",
      "\n",
      "LEAST (250, 0.9699915647506714): «israel launched massive air raids across the west bank and gaza tuesday piling pressure on yasser arafat with rocket strike on police post next to his offices after prime minister ariel sharon branded his administration sponsor of terrorism israeli warplanes launched series of strikes on gaza city while apache helicopters fired rockets on palestinian security offices in khan yunis in the southern gaza strip and on the west bank towns of salfit and tulkarem they also fired missiles on security post just metres from mr arafat offices in ramallah but the palestinian leader who was in his office at the time was unhurt but two policemen were slightly wounded officials said israeli army spokesman brigadier general ron kitrey said mr arafat was not targeted two people were killed in the gaza strikes and around injured half of them schoolboys palestinian hospital officials said the attacks came as israel foreign minister shimon peres said he did not believe israeli forces would take direct action against the palestinian leader the strikes also came day after mr sharon furious that mr arafat had not stopped hardline islamic groups who killed two dozen israelis in devastating suicide attacks at the weekend ordered his forces to blast symbols of mr arafat power gunships destroyed mr arafat three helicopters in gaza city while bulldozers ploughed up the runway at gaza international airport used by mr arafat for his frequent travels abroad palestinian officials called mr sharon campaign an attempt to topple mr arafat and destroy his self rule palestinian authority mr arafat told cnn television that mr sharon was trying to torpedo his own crackdown on terrorism with the airstrikes he doesn want me to succeed and for this he is escalating his military activities against our towns our cities our establishments the palestinian leader said french foreign minister hubert vedrine accused israel of conducting deliberate policy aimed at eliminating mr arafat arafat has been weakened by the harassment of the israeli army and as result people are using his weakness as an argument to say that since he can not re establish order in his own camp he should in some way be eliminated however britain prime minister tony blair and us president george bush expressed sympathy with israel and called on all sides to do anything they can to stabilise the situation mr sharon hard words and air strikes opened major divisions in his cross party government with left wing mr peres denouncing what he called bid during monday emergency cabinet meeting to cause the downfall of the palestinian authority the region had been braced for huge israeli retaliation after three palestinian suicide bombers from the hardline islamic movement hamas killed people on saturday and sunday in the suicide attacks in jerusalem and haifa mr sharon made national address after blasting gaza city and jenin in the west bank on monday accusing mr arafat of having chosen the path of terrorism and being the greatest obstacle to peace and stability in the middle east mr peres said the move by mr sharon dominant right wingers in effect means israeli policy is based purely on force with no political hope public radio said mr peres had called all the ministers from his labour party for special meeting wednesday to discuss the fallout of the strikes and mr sharon accusation that mr arafat was responsible for everything that has happened here chief palestinian negotiator saeb erakat speaking after mr sharon speech monday evening said the words amounted to declaration of war he called on the united states and europe to rein in mr sharon and dispatch international observers to oversee the spiralling conflict»\n",
      "\n"
     ]
    }
   ],
   "source": [
    "print('Document ({}): «{}»\\n'.format(doc_id, ' '.join(train_corpus[doc_id].words)))\n",
    "print(u'SIMILAR/DISSIMILAR DOCS PER MODEL %s:\\n' % model)\n",
    "for label, index in [('MOST', 0), ('MEDIAN', len(sims)//2), ('LEAST', len(sims) - 1)]:\n",
    "    print(u'%s %s: «%s»\\n' % (label, sims[index], ' '.join(train_corpus[sims[index][0]].words)))\n",
    "\n"
   ]
  },
  {
   "cell_type": "code",
   "execution_count": 12,
   "metadata": {},
   "outputs": [
    {
     "name": "stdout",
     "output_type": "stream",
     "text": [
      "Train Document (268): «opposition forces claimed to have captured half of kandahar airport after fierce fighting with taliban troops as residents reported further cranking up of us bombardments on the city we have now taken half of the airport said gul lali key lieutenant to former kandahar governor gul agha lali said that their forces had killed foreign taliban fighters in the operation and overrun building that appeared to have been used as an office by members of suspected terrorist mastermind osama bin laden al qaeda network these were of bin laden men from egypt libya and saudi arabia nineteen more were injured lali said from the battleground opposition commanders had earlier expressed confidence that the airport would fall by the end of the day with the taliban defence tactics hamstrung by aerial attacks from us warplanes we can hope but am not per cent sure we will capture it by the end of the evening spokesman for gul agha said after speaking to the opposition leader at noon local time bombing raids by us warplanes on taliban positions around the airport had helped the push according to fighters on the ground residents who left kandahar early monday confirmed that there had been no let up in the us bombing abdul masood said at that planes were now flying in five strong sorties the frequency has increased they now come within an interval of half an hour he said they are targeting the airport area and taliban positions outside the city they are also hitting the road between the city and the airport saw at least four trucks which had been overturned lying on the road masood also said he had reports that some opposition soldiers had been killed in suicide attack by taliban supporters some people told me that several arabs with grenades strapped around their abdomen managed to enter an advancing column at torkotal near kandahar airport believe there were heavy casualties his claims could not be independently verified but doctor working for the relief agency muslim hands said that he had treated six of agha men after they crossed the border monday they were later dispatched to chaman hospital nearly civilians have been killed and wounded in three nights of us airstrikes near jalalabad the provincial military chief said commander haji mohammad zaman said the bombs targeted an area south of jalalabad near the tora bora mountain cave complex where terror suspect osama bin laden is believed to have hideout zaman who directs military operations in nangarhar province said the first night of bombings left nearly civilians dead and wounded second night of air raids killed eight civilians and wounded he said and the third night left eight dead and many people injured»\n",
      "\n",
      "Similar Document (58, 0.9947709441184998): «pakistan president pervez musharraf believes there is strong possibility osama bin laden could have been killed in the united states bombardment of the tora bora caves in eastern afghanistan maybe he is dead because of all the operations that have been conducted the bombardment of all the caves that have been conducted there great possibility that he may have lost his life there general musharraf said on chinese state television during the visit to pakistan close ally china general musharraf said pakistan had stepped up security along its porous border with afghanistan in bid to capture the suspected terrorist mastermind we have huge borders between afghanistan and pakistan he said the tora bora region in which he was supposed to be operating has about eight passes leading into pakistan over mountains at height of about to feet we are guarding each one of these passes if he does enter if we identify him he will be handed over us and afghan forces have been searching for signs of bin laden the number one suspect in the september attacks on new york and washington around tora bora since forces from his al qaeda network fled last weekend us warplanes and afghan forces had launched extensive attacks on the network of caves where al qaeda members had been hiding out an afghan commander in charge in the tora bora caves region said saturday that bin laden had probably gone to pakistan the pentagon said on monday that it had no idea where bin laden was now although it believed he had been in the tora bora region until few days before»\n",
      "\n"
     ]
    }
   ],
   "source": [
    "# Pick a random document from the test corpus and infer a vector from the model\n",
    "doc_id = random.randint(0, len(train_corpus))\n",
    "\n",
    "# Compare and print the most/median/least similar documents from the train corpus\n",
    "print('Train Document ({}): «{}»\\n'.format(doc_id, ' '.join(train_corpus[doc_id].words)))\n",
    "sim_id = second_ranks[doc_id]\n",
    "print('Similar Document {}: «{}»\\n'.format(sim_id, ' '.join(train_corpus[sim_id[0]].words)))"
   ]
  },
  {
   "cell_type": "code",
   "execution_count": 13,
   "metadata": {},
   "outputs": [
    {
     "name": "stdout",
     "output_type": "stream",
     "text": [
      "Test Document (29): «man accused of making hidden camera footage up the skirts of women also made child pornography of the worst kind featuring the rape of children as young as police said friday the latest allegations suggest there nothing humorous about voyeurs who some may perceive to be making secret videos as joke staff insp gary ellis said approximately per cent of voyeurs have also committed sexual assault or rape ellis said reading from recently released federal government report on criminal voyeurism»\n",
      "\n",
      "SIMILAR/DISSIMILAR DOCS PER MODEL Doc2Vec(dm/m,d50,n5,w5,mc2,s0.001,t3):\n",
      "\n",
      "MOST (206, 0.99898362159729): «the royal commission into the building industry will hold its first public hearings in melbourne today the howard government established the commission in july prior to calling the federal election prompting union claims of political witch hunt but royal commissioner terence cole qc has stressed the independence of his inquiry he will examine claims of corruption coercion and anti competitive behaviour in the industry unions had initially refused to cooperate with the inquiry but key union figures including construction forestry mining and energy union cfmeu secretary martin kingham have been summonsed to give evidence finding is not expected for months»\n",
      "\n",
      "MEDIAN (131, 0.9982560276985168): «the new solomon islands prime minister has told his people that there are tough times ahead sir allan kemakeza the parliamentary leader of the people alliance party was elected prime minister on the first ballot sir allan heads up team consisting of the surviving members of the outgoing government and large grouping of newly elected independents one of those held one of the most senior positions in the malaita eagle force militia that conducted last year coup while others who have backed him were elected after being endorsed by the rival guadalcanal militia the isatabu freedom movement that ethnic conflict has left the solomons economy close to collapse and hundreds of high powered guns remain with the militants sir allan is putting his trust in god the times ahead are not going to be easy he said these will be times of sacrifice sir allan says that he also hopes to get agreement on disarming rival militias in the country within his first days in office in an attempt to remove any remaining high powered weapons from the community he believes it was his contacts with the grass root militias on both sides of the ethnic war that led to the success of the townsville peace conference that brought the war to halt sir allan former policeman says the police force part of which took part in last year coup needs to be overhauled both must go together the disarmament program as well as the restructuring of the police force he said he says law and order will be one of his government priorities palestinian leader yasser arafat call for an end to attacks on israelis has been met with mixture of hope scepticism and defiance under enormous international pressure to halt the violence mr arafat has called for halt to all armed operations against israel including suicide bombings and vowed that the perpetrators would be punished france britain and the united states have welcomed the announcement the israeli cabinet minister ephraim sneh says while it is positive sign the palestinian authority has to act on its words if he proves that he really means to act very very forcefully sincerely effectively and seriously against the islamic jihad and hamas and his own tanzin movement that will be positive sign he said»\n",
      "\n",
      "LEAST (250, 0.9939573407173157): «israel launched massive air raids across the west bank and gaza tuesday piling pressure on yasser arafat with rocket strike on police post next to his offices after prime minister ariel sharon branded his administration sponsor of terrorism israeli warplanes launched series of strikes on gaza city while apache helicopters fired rockets on palestinian security offices in khan yunis in the southern gaza strip and on the west bank towns of salfit and tulkarem they also fired missiles on security post just metres from mr arafat offices in ramallah but the palestinian leader who was in his office at the time was unhurt but two policemen were slightly wounded officials said israeli army spokesman brigadier general ron kitrey said mr arafat was not targeted two people were killed in the gaza strikes and around injured half of them schoolboys palestinian hospital officials said the attacks came as israel foreign minister shimon peres said he did not believe israeli forces would take direct action against the palestinian leader the strikes also came day after mr sharon furious that mr arafat had not stopped hardline islamic groups who killed two dozen israelis in devastating suicide attacks at the weekend ordered his forces to blast symbols of mr arafat power gunships destroyed mr arafat three helicopters in gaza city while bulldozers ploughed up the runway at gaza international airport used by mr arafat for his frequent travels abroad palestinian officials called mr sharon campaign an attempt to topple mr arafat and destroy his self rule palestinian authority mr arafat told cnn television that mr sharon was trying to torpedo his own crackdown on terrorism with the airstrikes he doesn want me to succeed and for this he is escalating his military activities against our towns our cities our establishments the palestinian leader said french foreign minister hubert vedrine accused israel of conducting deliberate policy aimed at eliminating mr arafat arafat has been weakened by the harassment of the israeli army and as result people are using his weakness as an argument to say that since he can not re establish order in his own camp he should in some way be eliminated however britain prime minister tony blair and us president george bush expressed sympathy with israel and called on all sides to do anything they can to stabilise the situation mr sharon hard words and air strikes opened major divisions in his cross party government with left wing mr peres denouncing what he called bid during monday emergency cabinet meeting to cause the downfall of the palestinian authority the region had been braced for huge israeli retaliation after three palestinian suicide bombers from the hardline islamic movement hamas killed people on saturday and sunday in the suicide attacks in jerusalem and haifa mr sharon made national address after blasting gaza city and jenin in the west bank on monday accusing mr arafat of having chosen the path of terrorism and being the greatest obstacle to peace and stability in the middle east mr peres said the move by mr sharon dominant right wingers in effect means israeli policy is based purely on force with no political hope public radio said mr peres had called all the ministers from his labour party for special meeting wednesday to discuss the fallout of the strikes and mr sharon accusation that mr arafat was responsible for everything that has happened here chief palestinian negotiator saeb erakat speaking after mr sharon speech monday evening said the words amounted to declaration of war he called on the united states and europe to rein in mr sharon and dispatch international observers to oversee the spiralling conflict»\n",
      "\n"
     ]
    }
   ],
   "source": [
    "# Pick a random document from the test corpus and infer a vector from the model\n",
    "doc_id = random.randint(0, len(test_corpus))\n",
    "inferred_vector = model.infer_vector(test_corpus[doc_id])\n",
    "sims = model.docvecs.most_similar([inferred_vector], topn=len(model.docvecs))\n",
    "\n",
    "# Compare and print the most/median/least similar documents from the train corpus\n",
    "print('Test Document ({}): «{}»\\n'.format(doc_id, ' '.join(test_corpus[doc_id])))\n",
    "print(u'SIMILAR/DISSIMILAR DOCS PER MODEL %s:\\n' % model)\n",
    "for label, index in [('MOST', 0), ('MEDIAN', len(sims)//2), ('LEAST', len(sims) - 1)]:\n",
    "    print(u'%s %s: «%s»\\n' % (label, sims[index], ' '.join(train_corpus[sims[index][0]].words)))"
   ]
  }
 ],
 "metadata": {
  "kernelspec": {
   "display_name": "Python 3",
   "language": "python",
   "name": "python3"
  },
  "language_info": {
   "codemirror_mode": {
    "name": "ipython",
    "version": 3
   },
   "file_extension": ".py",
   "mimetype": "text/x-python",
   "name": "python",
   "nbconvert_exporter": "python",
   "pygments_lexer": "ipython3",
   "version": "3.6.4"
  }
 },
 "nbformat": 4,
 "nbformat_minor": 2
}
